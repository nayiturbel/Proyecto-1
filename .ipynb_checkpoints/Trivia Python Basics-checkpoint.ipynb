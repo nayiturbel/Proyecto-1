{
 "cells": [
  {
   "cell_type": "code",
   "execution_count": 2,
   "metadata": {},
   "outputs": [],
   "source": [
    "# Variables Globales\n",
    "list_jugadores = []\n",
    "preguntas_juego = dict()\n",
    "\n",
    "# Seleccion de Jugador y su nombre\n",
    "def jugadores():\n",
    "        \n",
    "    for i in range(int(input(\"Seleccione el numero de jugadores: \"))):\n",
    "        i = input(\"Ingrese nombre del jugador: \")\n",
    "        list_jugadores.append(i)"
   ]
  },
  {
   "cell_type": "code",
   "execution_count": null,
   "metadata": {},
   "outputs": [],
   "source": [
    "# Seleccion de nivel de dificultad del juego\n",
    "def seleccion_dificultad():\n",
    "    \n",
    "    dificultad = (int(input(\"Seleccione la dificultad deseada 1, 2 o 3: \")))\n",
    "    \n",
    "    if dificultad == 1:\n",
    "        preguntas_juego.update(preguntas_1)\n",
    "    elif dificultad == 2:\n",
    "        preguntas_juego.update(preguntas_2)\n",
    "    elif dificultad == 3:\n",
    "        preguntas_juego.update(preguntas_3)\n",
    "    else:\n",
    "        print('Nivel no identificado, vuelva a intentar')"
   ]
  },
  {
   "cell_type": "code",
   "execution_count": null,
   "metadata": {},
   "outputs": [],
   "source": [
    "# Reglas del Juego"
   ]
  },
  {
   "cell_type": "code",
   "execution_count": null,
   "metadata": {},
   "outputs": [],
   "source": [
    "# Juego"
   ]
  },
  {
   "cell_type": "code",
   "execution_count": null,
   "metadata": {},
   "outputs": [],
   "source": [
    "# Puntaje del Juego"
   ]
  },
  {
   "cell_type": "code",
   "execution_count": null,
   "metadata": {},
   "outputs": [],
   "source": [
    "# Preguntas\n",
    "# Preguntas de muestra\n",
    "\n",
    "preguntas_3 = {'En regex el patron \"\\w{4, }\" corresponde a caracteres alfanuméricos con una extensión de 4.':False,\n",
    "            'El método capitalize( ) permite ubicar letras mayúsculas en cada elemento de un string.':False,\n",
    "            'El orden de un loop puede ser el mismo para una lista regular y para un list comprehension.':True,\n",
    "            'Una lambda utiliza la misma sitaxis que una funcion.':False,\n",
    "            'Las funciones solo pueden ser llamadas una sola vez.':False,\n",
    "            'Los sets nos permiten relizar analisis de valores unicos.':True,\n",
    "            '‘\\W’ refiere a caracteres alfanuméricos en regex.':False,\n",
    "            'Los strings son inmutables.':False,\n",
    "            'Un list comprehension no puede funcionar con condicionales.':False,\n",
    "            'Una lambda no puede estár dentro de una Funcion.':False,\n",
    "            'Las variable locales de las funciones, pueden ser llamadas en otras funciones.':False,\n",
    "            'Podemos acceder a los valores de los diccionarios con los metodos keys() y values().':True,\n",
    "            'En regex el set \"[^a-z]\" corresponde a cualquier minúscula entre a y z.':False,\n",
    "            'Empleamos el método split( ) para convertir strings en listas.':True,\n",
    "            'Con list comprehension solemos usar el método append( ).':False,\n",
    "            'Todas las lambdas son funciones, pero no todas las funciones son lambdas.':True,\n",
    "            'Todas las funciones deben contener un \"return\".':False,\n",
    "            'Los diccionarios están compuestos por \"Keys\" y \"Values\".':True,\n",
    "            'El método re.findall muestra los match objects de un string a modo de lista.':True,\n",
    "            'Se pueden aplicar operaciones matemáticas a strings':True,\n",
    "            'Otro nombre de las \"Lambdas\" es \"Anonimas\".':True,\n",
    "            'Los list comprehension pueden funcionar para almacenamiento iterativo. -':True,\n",
    "            'La palabra reservada para inciar una funcion es: \"Lambda\".':False,\n",
    "            'Las tuplas se definen con []':False,\n",
    "            'Regex nos permite identificar diferentes patrones en un texto.':True,\n",
    "            'Un list comprehension permite optimizar la lógica de una lista.':True,\n",
    "            'La palabra reservada para inciar una lambda es: \"def.\"':False,\n",
    "            'Un string es una secuencia de caracteres y espacios delimitados por comillas.':True,\n",
    "            'Las funciones son un conjunto de código que retornan un resultado.':True,\n",
    "            'Las tuplas son mutables,':False}\n",
    "\n",
    "preguntas_2 = {'Las tuplas son mutables.':False,\n",
    "            'Las funciones son un conjunto de código que retornan un resultado.':True,\n",
    "            'La palabra reservada para inciar una lambda es: \"def\".':False,\n",
    "            'Un list comprehension permite optimizar la lógica de una lista.':True,\n",
    "            'Un string es una secuencia de caracteres y espacios delimitados por comillas.':True,\n",
    "            'Regex nos permite identificar diferentes patrones en un texto.':True,\n",
    "            'Las tuplas se definen con [].':False,\n",
    "            'La palabra reservada para inciar una funcion es: \"Lambda\". ':False,\n",
    "            'Otro nombre de las \"Lambdas\" es \"Anonimas\".':True,\n",
    "            'Un list comprehension puede funcionar para almacenamiento iterativo.':True,\n",
    "            'Se pueden aplicar operaciones matemáticas a strings.':True,\n",
    "            'El método re.findall muestra los match objects de un string a modo de lista.':True,\n",
    "            'Los diccionarios están compuestos por \"Keys\" y \"Values\".':True,\n",
    "            'Todas las funciones deben contener un \"return\"':False,\n",
    "            'Todas las lambdas son funciones, pero no todas las funciones son lambdas.':True,\n",
    "            'En un list comprehension usamos el método append( ).':False,\n",
    "            'Empleamos el método split( ) para convertir strings en listas.':True,\n",
    "            'El set [^a-z] corresponde a cualquier minúscula entre a y z.':False,\n",
    "            'Los sets nos permiten relizar analisis de valores únicos.':True,\n",
    "            'Las funciones solo pueden ser llamadas una sola vez.':False}\n",
    "\n",
    "preguntas_1 = {'Un string es una secuencia de caracteres y espacios delimitados por comillas.':True,\n",
    "            'Regex nos permite identificar diferentes patrones en un texto.':True,\n",
    "            'Las tuplas son mutables.':False,\n",
    "            'Los diccionarios están compuestos por \"Keys\" y \"Values\".':True,\n",
    "            'Todas las funciones deben contener un \"return\".':False,\n",
    "            'Se pueden aplicar operaciones matemáticas a strings.':True,\n",
    "            'Los strings son inmutables.':False,\n",
    "            'Un list comprehension puede funcionar para almacenamiento iterativo.':True,\n",
    "            'Otro nombre de las \"Lambdas\" es \"Anonimas\".':True,\n",
    "            'Las tuplas se definen con [].':False}"
   ]
  }
 ],
 "metadata": {
  "kernelspec": {
   "display_name": "Python 3",
   "language": "python",
   "name": "python3"
  },
  "language_info": {
   "codemirror_mode": {
    "name": "ipython",
    "version": 3
   },
   "file_extension": ".py",
   "mimetype": "text/x-python",
   "name": "python",
   "nbconvert_exporter": "python",
   "pygments_lexer": "ipython3",
   "version": "3.8.5"
  }
 },
 "nbformat": 4,
 "nbformat_minor": 4
}
