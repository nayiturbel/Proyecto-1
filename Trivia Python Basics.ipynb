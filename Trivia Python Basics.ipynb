{
 "cells": [
  {
   "cell_type": "code",
   "execution_count": 2,
   "metadata": {},
   "outputs": [],
   "source": [
    "# Variables Globales\n",
    "list_jugadores = []\n",
    "preguntas_juego = dict()\n",
    "\n",
    "# Seleccion de Jugador y su nombre\n",
    "def jugadores():\n",
    "        \n",
    "    for i in range(int(input(\"Seleccione el numero de jugadores: \"))):\n",
    "        i = input(\"Ingrese nombre del jugador: \")\n",
    "        list_jugadores.append(i)"
   ]
  },
  {
   "cell_type": "code",
   "execution_count": null,
   "metadata": {},
   "outputs": [],
   "source": [
    "# Seleccion de nivel de dificultad del juego\n",
    "def seleccion_dificultad():\n",
    "    \n",
    "    dificultad = (int(input(\"Seleccione la dificultad deseada 1, 2 o 3: \")))\n",
    "    \n",
    "    if dificultad == 1:\n",
    "        preguntas_juego.update(preguntas_1)\n",
    "    elif dificultad == 2:\n",
    "        preguntas_juego.update(preguntas_2)\n",
    "    elif dificultad == 3:\n",
    "        preguntas_juego.update(preguntas_3)\n",
    "    else:\n",
    "        print('Nivel no identificado, vuelva a intentar')"
   ]
  },
  {
   "cell_type": "code",
   "execution_count": null,
   "metadata": {},
   "outputs": [],
   "source": [
    "# Reglas del Juego"
   ]
  },
  {
   "cell_type": "code",
   "execution_count": null,
   "metadata": {},
   "outputs": [],
   "source": [
    "# Juego"
   ]
  },
  {
   "cell_type": "code",
   "execution_count": null,
   "metadata": {},
   "outputs": [],
   "source": [
    "# Puntaje del Juego"
   ]
  },
  {
   "cell_type": "code",
   "execution_count": null,
   "metadata": {},
   "outputs": [],
   "source": [
    "# Preguntas\n",
    "# Preguntas de muestra\n",
    "\n",
    "preguntas_3 = {'pregunta1':True,\n",
    "            'pregunta2':False,\n",
    "            'pregunta3':True,\n",
    "            'pregunta4':False,\n",
    "            'pregunta5':True,\n",
    "            'pregunta6':False,\n",
    "            'pregunta7':True,\n",
    "            'pregunta8':False,\n",
    "            'pregunta9':True,\n",
    "            'pregunta10':False,\n",
    "            'pregunta11':True,\n",
    "            'pregunta12':False,\n",
    "            'pregunta13':True,\n",
    "            'pregunta14':False,\n",
    "            'pregunta15':True,\n",
    "            'pregunta16':False,\n",
    "            'pregunta17':True,\n",
    "            'pregunta18':False,\n",
    "            'pregunta19':True,\n",
    "            'pregunta20':False,\n",
    "            'pregunta21':True,\n",
    "            'pregunta22':False,\n",
    "            'pregunta23':True,\n",
    "            'pregunta24':False,\n",
    "            'pregunta25':True,\n",
    "            'pregunta26':False,\n",
    "            'pregunta27':True,\n",
    "            'pregunta28':False,\n",
    "            'pregunta29':True,\n",
    "            'pregunta30':False}\n",
    "\n",
    "preguntas_2 = {'Las tuplas son mutables.':False,\n",
    "            'Las funciones son un conjunto de código que retornan un resultado.':True,\n",
    "            'La palabra reservada para inciar una lambda es: \"def\".':False,\n",
    "            'Un list comprehension permite optimizar la lógica de una lista':True,\n",
    "            'Un string es una secuencia de caracteres y espacios delimitados por comillas.':True,\n",
    "            'Regex nos permite identificar diferentes patrones en un texto.':True,\n",
    "            'Las tuplas se definen con []':False,\n",
    "            'La palabra reservada para inciar una funcion es: \"Lambda\". ':False,\n",
    "            'Otro nombre de las \"Lambdas\" es \"Anonimas\".':True,\n",
    "            'Un list comprehension puede funcionar para almacenamiento iterativo':True,\n",
    "            'Se pueden aplicar operaciones matemáticas a strings.':True,\n",
    "            'El método re.findall muestra los match objects de un string a modo de lista.':True,\n",
    "            'Los diccionarios están compuestos por \"Keys\" y \"Values\".':True,\n",
    "            'Todas las funciones deben contener un \"return\"':False,\n",
    "            'Todas las lambdas son funciones, pero no todas las funciones son lambdas.':True,\n",
    "            'En un list comprehension usamos el método append( )':False,\n",
    "            'Empleamos el método split( ) para convertir strings en listas.':True,\n",
    "            'El set [^a-z] corresponde a cualquier minúscula entre a y z.':False,\n",
    "            'Los sets nos permiten relizar analisis de valores únicos.':True,\n",
    "            'Las funciones solo pueden ser llamadas una sola vez.':False}\n",
    "\n",
    "preguntas_1 = {'Un string es una secuencia de caracteres y espacios delimitados por comillas.':True,\n",
    "            'Regex nos permite identificar diferentes patrones en un texto.':True,\n",
    "            'Las tuplas son mutables.':False,\n",
    "            'Los diccionarios están compuestos por \"Keys\" y \"Values\"':True,\n",
    "            'Todas las funciones deben contener un \"return\".':False,\n",
    "            'Se pueden aplicar operaciones matemáticas a strings':True,\n",
    "            'Los strings son inmutables':False,\n",
    "            'Un list comprehension puede funcionar para almacenamiento iterativo.':True,\n",
    "            'Otro nombre de las \"Lambdas\" es \"Anonimas\".':True,\n",
    "            'Las tuplas se definen con []':False}"
   ]
  }
 ],
 "metadata": {
  "kernelspec": {
   "display_name": "Python 3",
   "language": "python",
   "name": "python3"
  },
  "language_info": {
   "codemirror_mode": {
    "name": "ipython",
    "version": 3
   },
   "file_extension": ".py",
   "mimetype": "text/x-python",
   "name": "python",
   "nbconvert_exporter": "python",
   "pygments_lexer": "ipython3",
   "version": "3.8.5"
  }
 },
 "nbformat": 4,
 "nbformat_minor": 4
}
