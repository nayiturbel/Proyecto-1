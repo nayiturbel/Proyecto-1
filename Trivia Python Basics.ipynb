{
 "cells": [
  {
   "cell_type": "code",
   "execution_count": null,
   "metadata": {},
   "outputs": [],
   "source": [
    "# Variables Globales\n",
    "#list_jugadores = []\n",
    "#preguntas_juego = dict()\n",
    "\n",
    "# Seleccion de Jugador y su nombre\n",
    "#def jugadores():\n",
    "#        \n",
    "#    for i in range(int(input(\"Seleccione el numero de jugadores: \"))):\n",
    "#        i = input(\"Ingrese nombre del jugador: \")\n",
    "#        list_jugadores.append(i)"
   ]
  },
  {
   "cell_type": "code",
   "execution_count": null,
   "metadata": {},
   "outputs": [],
   "source": [
    "# Seleccion de nivel de dificultad del juego\n",
    "#def seleccion_dificultad():\n",
    "#    \n",
    "#    dificultad = (int(input(\"Seleccione la dificultad deseada 1, 2 o 3: \")))\n",
    "#    \n",
    "#    if dificultad == 1:\n",
    "#        preguntas_juego.update(preguntas_1)\n",
    "#    elif dificultad == 2:\n",
    "#        preguntas_juego.update(preguntas_2)\n",
    "#    elif dificultad == 3:\n",
    "#        preguntas_juego.update(preguntas_3)\n",
    "#    else:\n",
    "#        print('Nivel no identificado, vuelva a intentar')"
   ]
  },
  {
   "cell_type": "code",
   "execution_count": null,
   "metadata": {},
   "outputs": [],
   "source": [
    "# Reglas del Juego"
   ]
  },
  {
   "cell_type": "code",
   "execution_count": null,
   "metadata": {},
   "outputs": [],
   "source": [
    "# Juego"
   ]
  },
  {
   "cell_type": "code",
   "execution_count": null,
   "metadata": {},
   "outputs": [],
   "source": [
    "# Puntaje del Juego"
   ]
  },
  {
   "cell_type": "code",
   "execution_count": 2,
   "metadata": {},
   "outputs": [],
   "source": [
    "# Preguntas\n",
    "# Preguntas de muestra\n",
    "\n",
    "preguntas_3 = {'En regex el patron \"\\w{4, }\" corresponde a caracteres alfanuméricos con una extensión de 4.':False,\n",
    "            'El método capitalize( ) permite ubicar letras mayúsculas en cada elemento de un string.':False,\n",
    "            'El orden de un loop puede ser el mismo para una lista regular y para un list comprehension.':True,\n",
    "            'Una lambda utiliza la misma sitaxis que una funcion.':False,\n",
    "            'Las funciones solo pueden ser llamadas una sola vez.':False,\n",
    "            'Los sets nos permiten relizar analisis de valores unicos.':True,\n",
    "            '‘\\W’ refiere a caracteres alfanuméricos en regex.':False,\n",
    "            'Los strings son inmutables.':False,\n",
    "            'Un list comprehension no puede funcionar con condicionales.':False,\n",
    "            'Una lambda no puede estár dentro de una Funcion.':False,\n",
    "            'Las variable locales de las funciones, pueden ser llamadas en otras funciones.':False,\n",
    "            'Podemos acceder a los valores de los diccionarios con los metodos keys() y values().':True,\n",
    "            'En regex el set \"[^a-z]\" corresponde a cualquier minúscula entre a y z.':False,\n",
    "            'Empleamos el método split( ) para convertir strings en listas.':True,\n",
    "            'Con list comprehension solemos usar el método append( ).':False,\n",
    "            'Todas las lambdas son funciones, pero no todas las funciones son lambdas.':True,\n",
    "            'Todas las funciones deben contener un \"return\".':False,\n",
    "            'Los diccionarios están compuestos por \"Keys\" y \"Values\".':True,\n",
    "            'El método re.findall muestra los match objects de un string a modo de lista.':True,\n",
    "            'Se pueden aplicar operaciones matemáticas a strings':True,\n",
    "            'Otro nombre de las \"Lambdas\" es \"Anonimas\".':True,\n",
    "            'Los list comprehension pueden funcionar para almacenamiento iterativo. -':True,\n",
    "            'La palabra reservada para inciar una funcion es: \"Lambda\".':False,\n",
    "            'Las tuplas se definen con []':False,\n",
    "            'Regex nos permite identificar diferentes patrones en un texto.':True,\n",
    "            'Un list comprehension permite optimizar la lógica de una lista.':True,\n",
    "            'La palabra reservada para inciar una lambda es: \"def.\"':False,\n",
    "            'Un string es una secuencia de caracteres y espacios delimitados por comillas.':True,\n",
    "            'Las funciones son un conjunto de código que retornan un resultado.':True,\n",
    "            'Las tuplas son mutables,':False}\n",
    "\n",
    "preguntas_2 = {'Las tuplas son mutables.':False,\n",
    "            'Las funciones son un conjunto de código que retornan un resultado.':True,\n",
    "            'La palabra reservada para inciar una lambda es: \"def\".':False,\n",
    "            'Un list comprehension permite optimizar la lógica de una lista.':True,\n",
    "            'Un string es una secuencia de caracteres y espacios delimitados por comillas.':True,\n",
    "            'Regex nos permite identificar diferentes patrones en un texto.':True,\n",
    "            'Las tuplas se definen con [].':False,\n",
    "            'La palabra reservada para inciar una funcion es: \"Lambda\". ':False,\n",
    "            'Otro nombre de las \"Lambdas\" es \"Anonimas\".':True,\n",
    "            'Un list comprehension puede funcionar para almacenamiento iterativo.':True,\n",
    "            'Se pueden aplicar operaciones matemáticas a strings.':True,\n",
    "            'El método re.findall muestra los match objects de un string a modo de lista.':True,\n",
    "            'Los diccionarios están compuestos por \"Keys\" y \"Values\".':True,\n",
    "            'Todas las funciones deben contener un \"return\"':False,\n",
    "            'Todas las lambdas son funciones, pero no todas las funciones son lambdas.':True,\n",
    "            'En un list comprehension usamos el método append( ).':False,\n",
    "            'Empleamos el método split( ) para convertir strings en listas.':True,\n",
    "            'El set [^a-z] corresponde a cualquier minúscula entre a y z.':False,\n",
    "            'Los sets nos permiten relizar analisis de valores únicos.':True,\n",
    "            'Las funciones solo pueden ser llamadas una sola vez.':False}\n",
    "\n",
    "preguntas_1 = {'Un string es una secuencia de caracteres y espacios delimitados por comillas.':True,\n",
    "            'Regex nos permite identificar diferentes patrones en un texto.':True,\n",
    "            'Las tuplas son mutables.':False,\n",
    "            'Los diccionarios están compuestos por \"Keys\" y \"Values\".':True,\n",
    "            'Todas las funciones deben contener un \"return\".':False,\n",
    "            'Se pueden aplicar operaciones matemáticas a strings.':True,\n",
    "            'Los strings son inmutables.':False,\n",
    "            'Un list comprehension puede funcionar para almacenamiento iterativo.':True,\n",
    "            'Otro nombre de las \"Lambdas\" es \"Anonimas\".':True,\n",
    "            'Las tuplas se definen con [].':False}"
   ]
  },
  {
   "cell_type": "code",
   "execution_count": null,
   "metadata": {},
   "outputs": [],
   "source": [
    "#preguntas_1 = {'Un string es una secuencia de caracteres y espacios delimitados por comillas.':True,\n",
    "#            'Regex nos permite identificar diferentes patrones en un texto.':True,\n",
    "#            'Las tuplas son mutables.':False,\n",
    "#            'Los diccionarios están compuestos por \"Keys\" y \"Values\".':True,\n",
    "#            'Todas las funciones deben contener un \"return\".':False,\n",
    "#            'Se pueden aplicar operaciones matemáticas a strings.':True,\n",
    "#            'Los strings son inmutables.':False,\n",
    "#            'Un list comprehension puede funcionar para almacenamiento iterativo.':True,\n",
    "#            'Otro nombre de las \"Lambdas\" es \"Anonimas\".':True,#\n",
    "#            'Las tuplas se definen con [].':False}"
   ]
  },
  {
   "cell_type": "code",
   "execution_count": null,
   "metadata": {},
   "outputs": [],
   "source": []
  },
  {
   "cell_type": "code",
   "execution_count": null,
   "metadata": {},
   "outputs": [],
   "source": [
    "#for i in preguntas_juego:\n",
    "#    preguntas.append(i)\n",
    "\n",
    "#for i in preguntas:\n",
    "#    pregunta_en_turno = i\n",
    "#    print(pregunta_en_turno)\n",
    "#    respuesta = input(\"Indique su respuesta: T o F \")\n",
    "#    if respuesta == \"T\" or respuesta == \"t\":\n",
    "#        respuesta = True\n",
    "#        if preguntas_juego.get(i)==respuesta:\n",
    "#            print(\"Respuesta Correcta\")\n",
    "#            respuestas.append(1)\n",
    "#        else:\n",
    "#            print(\"Respuesta incorrecta\")\n",
    "#            respuestas.append(0)\n",
    "#            \n",
    "#    elif respuesta == \"F\"or respuesta == \"f\":\n",
    "#        respuesta = False\n",
    "#        if preguntas_juego.get(i)==respuesta:\n",
    "#            print(\"Respuesta Correcta\")\n",
    "#            respuestas.append(1)\n",
    "#        else:\n",
    "#            print(\"Respuesta incorrecta\")\n",
    "#            respuestas.append(0)\n",
    "#    else:\n",
    "#        print(\"Respuesta no recibida\")\n",
    "#        respuestas.append(0)\n",
    "\n",
    "# Se van imprimiendo las preguntas y se reciben las respuestas y se comparan contra las respuestas preestablecidas\n",
    "# si la respuesta es correcta se tiene un 1, si es incorrecta o no se recibe un valor valido es 0"
   ]
  },
  {
   "cell_type": "code",
   "execution_count": null,
   "metadata": {},
   "outputs": [],
   "source": []
  },
  {
   "cell_type": "code",
   "execution_count": 12,
   "metadata": {},
   "outputs": [
    {
     "ename": "NameError",
     "evalue": "name 'list_jugadores' is not defined",
     "output_type": "error",
     "traceback": [
      "\u001b[1;31m---------------------------------------------------------------------------\u001b[0m",
      "\u001b[1;31mNameError\u001b[0m                                 Traceback (most recent call last)",
      "\u001b[1;32m<ipython-input-12-f699da4fa8e2>\u001b[0m in \u001b[0;36m<module>\u001b[1;34m\u001b[0m\n\u001b[0;32m      5\u001b[0m \u001b[0mpreguntas_juego\u001b[0m \u001b[1;33m=\u001b[0m \u001b[0mdict\u001b[0m\u001b[1;33m(\u001b[0m\u001b[1;33m)\u001b[0m\u001b[1;33m\u001b[0m\u001b[1;33m\u001b[0m\u001b[0m\n\u001b[0;32m      6\u001b[0m \u001b[0mpuntos_jugador\u001b[0m \u001b[1;33m=\u001b[0m \u001b[1;33m[\u001b[0m\u001b[1;33m]\u001b[0m\u001b[1;33m\u001b[0m\u001b[1;33m\u001b[0m\u001b[0m\n\u001b[1;32m----> 7\u001b[1;33m \u001b[0mresultado_juego\u001b[0m \u001b[1;33m=\u001b[0m \u001b[0mdict\u001b[0m\u001b[1;33m(\u001b[0m\u001b[0mzip\u001b[0m\u001b[1;33m(\u001b[0m\u001b[0mlist_jugadores\u001b[0m\u001b[1;33m,\u001b[0m\u001b[0mpuntos_jugador\u001b[0m\u001b[1;33m)\u001b[0m\u001b[1;33m)\u001b[0m\u001b[1;33m\u001b[0m\u001b[1;33m\u001b[0m\u001b[0m\n\u001b[0m\u001b[0;32m      8\u001b[0m \u001b[0mlist_jugadores\u001b[0m \u001b[1;33m=\u001b[0m \u001b[1;33m[\u001b[0m\u001b[1;33m]\u001b[0m\u001b[1;33m\u001b[0m\u001b[1;33m\u001b[0m\u001b[0m\n\u001b[0;32m      9\u001b[0m \u001b[1;33m\u001b[0m\u001b[0m\n",
      "\u001b[1;31mNameError\u001b[0m: name 'list_jugadores' is not defined"
     ]
    }
   ],
   "source": [
    "# Proyecto Nayelly y Ricardo. Trivia de los temas vistos en clase\n",
    "\n",
    "# Variables Globales\n",
    "\n",
    "preguntas_juego = dict()\n",
    "puntos_jugador = []\n",
    "resultado_juego = dict(zip(list_jugadores,puntos_jugador))\n",
    "list_jugadores = []\n",
    "\n",
    "\n",
    "# Seleccion de Jugador y su nombre\n",
    "def jugadores():\n",
    "    \n",
    "    list_jugadores = []\n",
    "    \n",
    "    for i in range(int(input(\"Seleccione el numero de jugadores: \"))):\n",
    "        i = input(\"Ingrese nombre del jugador: \")\n",
    "        list_jugadores.append(i)\n",
    "    \n",
    "    return list_jugadores\n",
    "\n",
    "# Seleccion de nivel de dificultad del juego\n",
    "def seleccion_dificultad():\n",
    "    \n",
    "    dificultad = (int(input(\"Seleccione la dificultad deseada 1, 2 o 3: \")))\n",
    "    \n",
    "    if dificultad == 1:\n",
    "        preguntas_juego.update(preguntas_1)\n",
    "    elif dificultad == 2:\n",
    "        preguntas_juego.update(preguntas_2)\n",
    "    elif dificultad == 3:\n",
    "        preguntas_juego.update(preguntas_3)\n",
    "    else:\n",
    "        print('Nivel no identificado, vuelva a intentar')\n",
    "\n",
    "# Reglas del Juego\n",
    "\n",
    "# si la respuesta del usuario es igual al valor de la pregunta se suma un punto\n",
    "# al jugador. \n",
    "# El jugador que al final tenga mas puntos gana. \n",
    "# si quedan empate se muestra mensaje de empate."
   ]
  },
  {
   "cell_type": "code",
   "execution_count": 13,
   "metadata": {},
   "outputs": [],
   "source": [
    "def reglas_de_juego():\n",
    "#1. seleccionar una pregunta random de nuestro diccionario de preguntas\n",
    "#2. recibo el input de la respuesta por jugador\n",
    "#3. checo si el input es correcto en el diccionario original\n",
    "#4. guardo la pregunta en el listado de \"ya no preguntar\" -- Se \n",
    "#5. acumulo los puntos por cada uno de los jugadores\n",
    "    preguntas = []\n",
    "    respuestas = []\n",
    "\n",
    "    for i in preguntas_juego:\n",
    "        preguntas.append(i)\n",
    "\n",
    "    for i in preguntas:\n",
    "        pregunta_en_turno = i\n",
    "        print(pregunta_en_turno)\n",
    "        respuesta = input(\"Indique su respuesta: T o F \")\n",
    "        if respuesta == \"T\" or respuesta == \"t\":\n",
    "            respuesta = True\n",
    "            if preguntas_juego.get(i)==respuesta:\n",
    "                print(\"Respuesta Correcta\")\n",
    "                respuestas.append(1)\n",
    "            else:\n",
    "                print(\"Respuesta incorrecta\")\n",
    "                respuestas.append(0)\n",
    "\n",
    "        elif respuesta == \"F\"or respuesta == \"f\":\n",
    "            respuesta = False\n",
    "            if preguntas_juego.get(i)==respuesta:\n",
    "                print(\"Respuesta Correcta\")\n",
    "                respuestas.append(1)\n",
    "            else:\n",
    "                print(\"Respuesta incorrecta\")\n",
    "                respuestas.append(0)\n",
    "        else:\n",
    "            print(\"Respuesta no recibida\")\n",
    "            respuestas.append(0)\n",
    "\n",
    "    puntos_fin_jugador = sum(respuestas)\n",
    "    puntos_jugador.append(puntos_fin_jugador)\n",
    "    \n",
    "    print(dict(zip(list_jugadores,puntos_jugador)))\n"
   ]
  },
  {
   "cell_type": "code",
   "execution_count": null,
   "metadata": {},
   "outputs": [],
   "source": []
  },
  {
   "cell_type": "code",
   "execution_count": null,
   "metadata": {},
   "outputs": [],
   "source": []
  },
  {
   "cell_type": "code",
   "execution_count": 14,
   "metadata": {},
   "outputs": [
    {
     "ename": "NameError",
     "evalue": "name 'jugadores' is not defined",
     "output_type": "error",
     "traceback": [
      "\u001b[1;31m---------------------------------------------------------------------------\u001b[0m",
      "\u001b[1;31mNameError\u001b[0m                                 Traceback (most recent call last)",
      "\u001b[1;32m<ipython-input-14-96fa6e3b6b66>\u001b[0m in \u001b[0;36m<module>\u001b[1;34m\u001b[0m\n\u001b[1;32m----> 1\u001b[1;33m \u001b[0mlist_jugadores\u001b[0m \u001b[1;33m=\u001b[0m \u001b[0mjugadores\u001b[0m\u001b[1;33m(\u001b[0m\u001b[1;33m)\u001b[0m\u001b[1;33m\u001b[0m\u001b[1;33m\u001b[0m\u001b[0m\n\u001b[0m\u001b[0;32m      2\u001b[0m \u001b[0mseleccion_dificultad\u001b[0m\u001b[1;33m(\u001b[0m\u001b[1;33m)\u001b[0m\u001b[1;33m\u001b[0m\u001b[1;33m\u001b[0m\u001b[0m\n\u001b[0;32m      3\u001b[0m \u001b[1;33m\u001b[0m\u001b[0m\n\u001b[0;32m      4\u001b[0m \u001b[1;32mfor\u001b[0m \u001b[0mjugador\u001b[0m \u001b[1;32min\u001b[0m \u001b[0mlist_jugadores\u001b[0m\u001b[1;33m:\u001b[0m\u001b[1;33m\u001b[0m\u001b[1;33m\u001b[0m\u001b[0m\n\u001b[0;32m      5\u001b[0m     \u001b[0mreglas_de_juego\u001b[0m\u001b[1;33m(\u001b[0m\u001b[1;33m)\u001b[0m\u001b[1;33m\u001b[0m\u001b[1;33m\u001b[0m\u001b[0m\n",
      "\u001b[1;31mNameError\u001b[0m: name 'jugadores' is not defined"
     ]
    }
   ],
   "source": [
    "list_jugadores = jugadores()\n",
    "seleccion_dificultad()\n",
    "\n",
    "for jugador in list_jugadores:\n",
    "    reglas_de_juego()\n"
   ]
  },
  {
   "cell_type": "code",
   "execution_count": null,
   "metadata": {},
   "outputs": [],
   "source": [
    "\n"
   ]
  }
 ],
 "metadata": {
  "kernelspec": {
   "display_name": "Python 3",
   "language": "python",
   "name": "python3"
  },
  "language_info": {
   "codemirror_mode": {
    "name": "ipython",
    "version": 3
   },
   "file_extension": ".py",
   "mimetype": "text/x-python",
   "name": "python",
   "nbconvert_exporter": "python",
   "pygments_lexer": "ipython3",
   "version": "3.7.6"
  },
  "toc": {
   "base_numbering": 1,
   "nav_menu": {},
   "number_sections": true,
   "sideBar": true,
   "skip_h1_title": false,
   "title_cell": "Table of Contents",
   "title_sidebar": "Contents",
   "toc_cell": false,
   "toc_position": {},
   "toc_section_display": true,
   "toc_window_display": false
  }
 },
 "nbformat": 4,
 "nbformat_minor": 4
}
